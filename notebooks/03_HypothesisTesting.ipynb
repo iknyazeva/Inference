{
 "cells": [
  {
   "cell_type": "markdown",
   "metadata": {
    "Collapsed": "false"
   },
   "source": [
    "# Тестирование гипотез: параметрическое тестирование и симуляции\n",
    "\n",
    "Появляется тогда, когда у вас есть ислледовательский вопрос, например какова эффективность чего-то? А отличается ли мозговая активность мужчин от женщин в состоянии покоя? А влияют ли гормоны на принятие решений?  Исследование организовано так, чтобы можно было собрать данные, а потом уметь сделать выводы. \n",
    "## Гипотеза \n",
    "Некоторое утверждение про наблюдаемое явление, которое можно либо опровергнуть либо подтвердить. Может быть крупная исследовательская тематика: гормоны и поведение например. А при проведении каждого конкретного эксперимента тестируется вполне кокретная гипотеза. Читаем главу про тестирование гипотез (в ридингах)\n",
    "\n",
    "Теоретический бэкграунд\n",
    " - Bishop Pattern Recognition Chapter 1.2 , Chapter 2\n",
    " - Конспект от Yandex ML (coursera) урок 3. Проверка гипотез\n",
    "\n"
   ]
  },
  {
   "cell_type": "markdown",
   "metadata": {
    "Collapsed": "false"
   },
   "source": [
    "## Тестирование гипотез\n",
    "\n",
    "Для тестирования гипотезы она должна быть\n",
    "\n",
    "\n",
    "***Обычно***\n",
    " - H0(неинтересный вывод, гипотеза, которую хотелось бы отвергнуть)\n",
    " - H1 (как раз исследовательская гипотеза)  \n",
    "\n",
    "\n",
    "***Pipeline*** для проверки гипотезы:\n",
    " - Формулируем гипотезу, с помощью которой можно оценить адекватность получить имеющиеся данные \n",
    " - Нам нужна какая-то тестовая статистика - то есть !ОДНО! число (а потом мы должны либо что-то знать про распределение этой тестовой статистики и использовать параметрические подходы например, или уметь получить распределение с помощью либо бутстрепа либо перемешивания), которое мы можем оценить и из исходных данных и из симуляций. Она должна дать базис для сравнения двух гипотез. \n",
    " - Считаем p-value для этой статистики. P-value  - это вероятность получения такого же или большего значения вашей тестовой статистики как в наблюдаемых данных, при условии что нулевая гипотеза верна. !!! НЕ вероятность того, что нулевая гипотеза верна\n",
    " \n",
    " \n",
    " Очень хорошо изученная область статистики, много сложных названий и тестов.\n",
    " Задача на сегодня: получить интуицию про тестовую статистику,  p-value  и уровень значимости"
   ]
  },
  {
   "cell_type": "markdown",
   "metadata": {
    "Collapsed": "false"
   },
   "source": [
    "###  Сравнение средних: постановки задач\n",
    "\n",
    "!!! Привести примеры из жизни\n",
    "```\n",
    "- H0: среднее равно какому-то конкретному значению (например нулю)\n",
    "- H1: среднее не равно (больше, меньше)\n",
    "```\n",
    "\n",
    "\n",
    "```\n",
    " - H0: даны две группы, средние в группах равны\n",
    " - H1: среднее не равно (больше, меньше)\n",
    "```\n",
    "\"\"\"\n",
    "\n",
    "### Параметрические методы\n",
    "#### z интервал\n",
    " $$\\bar{X}_n \\pm z_{1-\\frac{\\alpha}{2}} \\frac{\\sigma}{\\sqrt{n}}$$\n",
    " \n",
    "#### t interval\n",
    "Вместо гипотетической теоретической дисперсии $\\sigma^2$, которую мы на самом деле в данном случае не знаем, используем выборочные дисперсии, и построим доверительные интервалы вида $$\\bar{X}_n \\pm t_{1-\\frac{\\alpha}{2}} \\frac{S}{\\sqrt{n}}$$\n",
    "\n",
    "#### Важные предположения\n",
    "\n",
    " - Дисперсии выборок равны (часто нарушается)\n",
    " - Обе группы получились из одного распределения\n",
    " \n",
    "#### На выходе\n",
    " Получаем ответ только про среднее значение. Можем хотеть знать про медиану, дисперсию, вообще проверять идентичность распределения.\n",
    " Что для этого нужно? Почему это сложно в рамках параметрических подходов\n",
    " \n",
    "## Тестирование с помощью симуляций:\n",
    "### permutation \n",
    "\n",
    "Идея заключается в следующем  - соберем все данные в один массив, перемешаем его и нарежем на куски таких же размеров  как у исходных данных. Сделаем так много-много раз. Посчитаем характеристики перемешанных образцов  - и если мы их не можем отличить от исходных характеристик массивов, значит можно считать, что и наши эмпирические данные могут быть одним из таких вариантов перестановок. Можно считать любые характеристики: среднее, медиану, размах, дисперсию, делать вывод о равенстве распределений\n",
    "\n",
    "### Bootstrap\n",
    "Ну а допустим у вас нет двух выборок, есть только одна и хотите проверить гипотезу о равенстве среднего конкретному значению (чаще всего 0, есть эффект или нет). Или построить доверительный интервал для среднего, или другой характеристики, или для коэффициента линейной регрессии.\n",
    "Ну тогда делаем подвыборки того же размера из исходной, а дальше считаем те же самые статистики."
   ]
  },
  {
   "cell_type": "code",
   "execution_count": 40,
   "metadata": {
    "Collapsed": "false"
   },
   "outputs": [],
   "source": [
    "import numpy as np\n",
    "import pandas as pd\n",
    "import matplotlib.pyplot as plt\n",
    "import scipy.stats as sts\n",
    "import seaborn as sns\n",
    "sns.set(style=\"whitegrid\")\n",
    "import pingouin as pg\n",
    "import warnings\n",
    "import os\n",
    "warnings.filterwarnings(\"ignore\")\n",
    "%matplotlib inline\n",
    "np.set_printoptions(precision=3)"
   ]
  },
  {
   "cell_type": "code",
   "execution_count": 7,
   "metadata": {
    "Collapsed": "false"
   },
   "outputs": [],
   "source": [
    "def generate_norm_groups(means = [2,5], sigmas = [1,1], sizes = [20, 40]):\n",
    "    \"\"\"\n",
    "    Artificial data for group comparing testing, sampled from normal distribution \n",
    "    \n",
    "    Args:\n",
    "        means (list of floats): list of predefined means, length equal to number of groups\n",
    "        sigmas (list of floats): list of predefined sigmas, length equal to number of groups\n",
    "        sizes (list of floats): sizes of groups\n",
    "    \n",
    "    Return: \n",
    "        data(DataFrame): data frame with the data\n",
    "    \n",
    "    \"\"\"\n",
    "    data = np.concatenate([ sts.norm.rvs(loc = loc, scale = scale, size = size) for loc,scale,size in zip(means,sigmas,sizes)])\n",
    " \n",
    "    groups = np.concatenate([[f'group{i}']*sizes[i] for i in range(len(means))])\n",
    "    df = pd.DataFrame(dict(value = data, group = groups))\n",
    "    df['group_id'] = pd.Categorical(df['group']).codes\n",
    "    return df"
   ]
  },
  {
   "cell_type": "code",
   "execution_count": 11,
   "metadata": {
    "Collapsed": "false"
   },
   "outputs": [
    {
     "data": {
      "text/html": [
       "<div>\n",
       "<style scoped>\n",
       "    .dataframe tbody tr th:only-of-type {\n",
       "        vertical-align: middle;\n",
       "    }\n",
       "\n",
       "    .dataframe tbody tr th {\n",
       "        vertical-align: top;\n",
       "    }\n",
       "\n",
       "    .dataframe thead th {\n",
       "        text-align: right;\n",
       "    }\n",
       "</style>\n",
       "<table border=\"1\" class=\"dataframe\">\n",
       "  <thead>\n",
       "    <tr style=\"text-align: right;\">\n",
       "      <th></th>\n",
       "      <th>value</th>\n",
       "      <th>group</th>\n",
       "      <th>group_id</th>\n",
       "    </tr>\n",
       "  </thead>\n",
       "  <tbody>\n",
       "    <tr>\n",
       "      <th>0</th>\n",
       "      <td>1.385685</td>\n",
       "      <td>group0</td>\n",
       "      <td>0</td>\n",
       "    </tr>\n",
       "    <tr>\n",
       "      <th>1</th>\n",
       "      <td>0.094429</td>\n",
       "      <td>group0</td>\n",
       "      <td>0</td>\n",
       "    </tr>\n",
       "    <tr>\n",
       "      <th>2</th>\n",
       "      <td>2.733530</td>\n",
       "      <td>group0</td>\n",
       "      <td>0</td>\n",
       "    </tr>\n",
       "    <tr>\n",
       "      <th>3</th>\n",
       "      <td>1.021385</td>\n",
       "      <td>group0</td>\n",
       "      <td>0</td>\n",
       "    </tr>\n",
       "    <tr>\n",
       "      <th>4</th>\n",
       "      <td>2.658780</td>\n",
       "      <td>group0</td>\n",
       "      <td>0</td>\n",
       "    </tr>\n",
       "  </tbody>\n",
       "</table>\n",
       "</div>"
      ],
      "text/plain": [
       "      value   group  group_id\n",
       "0  1.385685  group0         0\n",
       "1  0.094429  group0         0\n",
       "2  2.733530  group0         0\n",
       "3  1.021385  group0         0\n",
       "4  2.658780  group0         0"
      ]
     },
     "execution_count": 11,
     "metadata": {},
     "output_type": "execute_result"
    }
   ],
   "source": [
    "groups = generate_norm_groups(means = [2,5], sizes = [40, 50])\n",
    "groups.head()"
   ]
  },
  {
   "cell_type": "code",
   "execution_count": 12,
   "metadata": {
    "Collapsed": "false"
   },
   "outputs": [
    {
     "data": {
      "image/png": "[encoded data removed]",
      "text/plain": [
       "<Figure size 864x288 with 2 Axes>"
      ]
     },
     "metadata": {
      "needs_background": "light"
     },
     "output_type": "display_data"
    }
   ],
   "source": [
    "groups.hist('value', by='group', figsize=(12, 4));"
   ]
  },
  {
   "cell_type": "code",
   "execution_count": 13,
   "metadata": {
    "Collapsed": "false"
   },
   "outputs": [
    {
     "data": {
      "text/plain": [
       "<AxesSubplot:xlabel='group', ylabel='value'>"
      ]
     },
     "execution_count": 13,
     "metadata": {},
     "output_type": "execute_result"
    },
    {
     "data": {
      "image/png": "[encoded data removed]",
      "text/plain": [
       "<Figure size 432x288 with 1 Axes>"
      ]
     },
     "metadata": {
      "needs_background": "light"
     },
     "output_type": "display_data"
    }
   ],
   "source": [
    "sns.swarmplot(x = 'group', y = 'value', data = groups)"
   ]
  },
  {
   "cell_type": "markdown",
   "metadata": {
    "Collapsed": "false"
   },
   "source": [
    "\n",
    "**Односторонний t-тест**\n",
    "\n",
    "В этом варианте мы предполагаем, что есть какое-то направление \n",
    " - H0: $\\mu_p = \\mu_r \\Rightarrow \\mu_p - \\mu_r =0 $\n",
    " - H1: $\\mu_p <\\mu_r$\n",
    "\n",
    "**Двусторонний t-тест**\n",
    "\n",
    "В этом случае, мы не знаем в какую сторону может отличаться значение, может быть как больше так и меньше\n",
    " - H0: $\\mu_p = \\mu_r$\n",
    " - H1: $\\mu_p !=\\mu_r$"
   ]
  },
  {
   "cell_type": "code",
   "execution_count": 21,
   "metadata": {
    "Collapsed": "false"
   },
   "outputs": [],
   "source": [
    "#help(pg.ttest)"
   ]
  },
  {
   "cell_type": "code",
   "execution_count": 18,
   "metadata": {
    "Collapsed": "false"
   },
   "outputs": [
    {
     "data": {
      "text/html": [
       "<div>\n",
       "<style scoped>\n",
       "    .dataframe tbody tr th:only-of-type {\n",
       "        vertical-align: middle;\n",
       "    }\n",
       "\n",
       "    .dataframe tbody tr th {\n",
       "        vertical-align: top;\n",
       "    }\n",
       "\n",
       "    .dataframe thead th {\n",
       "        text-align: right;\n",
       "    }\n",
       "</style>\n",
       "<table border=\"1\" class=\"dataframe\">\n",
       "  <thead>\n",
       "    <tr style=\"text-align: right;\">\n",
       "      <th></th>\n",
       "      <th>T</th>\n",
       "      <th>dof</th>\n",
       "      <th>tail</th>\n",
       "      <th>p-val</th>\n",
       "      <th>CI95%</th>\n",
       "      <th>cohen-d</th>\n",
       "      <th>BF10</th>\n",
       "      <th>power</th>\n",
       "    </tr>\n",
       "  </thead>\n",
       "  <tbody>\n",
       "    <tr>\n",
       "      <th>T-test</th>\n",
       "      <td>-13.42</td>\n",
       "      <td>81.74</td>\n",
       "      <td>two-sided</td>\n",
       "      <td>0.0</td>\n",
       "      <td>[-3.49, -2.59]</td>\n",
       "      <td>2.86</td>\n",
       "      <td>4.731e+19</td>\n",
       "      <td>1.0</td>\n",
       "    </tr>\n",
       "  </tbody>\n",
       "</table>\n",
       "</div>"
      ],
      "text/plain": [
       "            T    dof       tail  p-val           CI95%  cohen-d       BF10  \\\n",
       "T-test -13.42  81.74  two-sided    0.0  [-3.49, -2.59]     2.86  4.731e+19   \n",
       "\n",
       "        power  \n",
       "T-test    1.0  "
      ]
     },
     "execution_count": 18,
     "metadata": {},
     "output_type": "execute_result"
    }
   ],
   "source": [
    "pg.ttest(x=groups[groups['group_id']==0].value, y=groups[groups['group_id']==1].value, tail ='two-sided').round(2)"
   ]
  },
  {
   "cell_type": "code",
   "execution_count": 19,
   "metadata": {
    "Collapsed": "false"
   },
   "outputs": [
    {
     "data": {
      "text/html": [
       "<div>\n",
       "<style scoped>\n",
       "    .dataframe tbody tr th:only-of-type {\n",
       "        vertical-align: middle;\n",
       "    }\n",
       "\n",
       "    .dataframe tbody tr th {\n",
       "        vertical-align: top;\n",
       "    }\n",
       "\n",
       "    .dataframe thead th {\n",
       "        text-align: right;\n",
       "    }\n",
       "</style>\n",
       "<table border=\"1\" class=\"dataframe\">\n",
       "  <thead>\n",
       "    <tr style=\"text-align: right;\">\n",
       "      <th></th>\n",
       "      <th>T</th>\n",
       "      <th>dof</th>\n",
       "      <th>tail</th>\n",
       "      <th>p-val</th>\n",
       "      <th>CI95%</th>\n",
       "      <th>cohen-d</th>\n",
       "      <th>BF10</th>\n",
       "      <th>power</th>\n",
       "    </tr>\n",
       "  </thead>\n",
       "  <tbody>\n",
       "    <tr>\n",
       "      <th>T-test</th>\n",
       "      <td>-13.42</td>\n",
       "      <td>81.74</td>\n",
       "      <td>less</td>\n",
       "      <td>0.0</td>\n",
       "      <td>[-inf, -2.66]</td>\n",
       "      <td>2.86</td>\n",
       "      <td>9.463e+19</td>\n",
       "      <td>1.0</td>\n",
       "    </tr>\n",
       "  </tbody>\n",
       "</table>\n",
       "</div>"
      ],
      "text/plain": [
       "            T    dof  tail  p-val          CI95%  cohen-d       BF10  power\n",
       "T-test -13.42  81.74  less    0.0  [-inf, -2.66]     2.86  9.463e+19    1.0"
      ]
     },
     "execution_count": 19,
     "metadata": {},
     "output_type": "execute_result"
    }
   ],
   "source": [
    "pg.ttest(x=groups[groups['group_id']==0].value, y=groups[groups['group_id']==1].value, tail ='one-sided').round(2)"
   ]
  },
  {
   "cell_type": "markdown",
   "metadata": {
    "Collapsed": "false"
   },
   "source": [
    "Как читать эту табличку? Почему разные интервалы получились?"
   ]
  },
  {
   "cell_type": "markdown",
   "metadata": {
    "Collapsed": "false"
   },
   "source": [
    "### Задание:\n",
    " - Поэкспериментируйте с размерами выборок и разницей между средними.  Возьмите маленькую разницу и большую дисперсию, маленькую разницу и маленькую дисперсию. При фиксированных параметрах среднего и дисперсии, посмотрите как  p-value  меняется от размера выборки (суммарного по обеим группам). Нарисуйте графики.\n",
    "\n",
    " - Теперь добавьте различия в дисперсии у двух групп. Как меняется p-value?\n",
    " \n"
   ]
  },
  {
   "cell_type": "markdown",
   "metadata": {
    "Collapsed": "false"
   },
   "source": [
    "## Перемешивание \n",
    "Очень простая и мощная идея для проверки гипотез, раньше не использовалась только потому-что не было вычислительных возможностей, но были толстые книжки с цифрами, сейчас почти всю проверку гипотез можно делать перемешиванием и забыть про названия (но лучше помнить, вы так будете казаться солидней) \n",
    "Идея (проще не придумаешь): у нас есть две группы, мы хотим понять что-то про их одинаковость. У каждой группы у нас есть индикатор группы. Давайте перемешаем все индикаторы групп и заново переразделим. Будем смотреть каким получается значение интересующей нас статистики у новых групп\n",
    "\n",
    "\n",
    "Еще раз  - соберем все данные в один массив, перемешаем его и нарежем на куски таких же размеров  как у исходных данных. Сделаем так много-много раз. Посчитаем характеристики перемешанных образцов  - и если мы их не можем отличить от исходных характеристик массивов, значит можно считать, что и наши эмпирические данные могут быть одним из таких вариантов перестановок."
   ]
  },
  {
   "cell_type": "code",
   "execution_count": 22,
   "metadata": {
    "Collapsed": "false"
   },
   "outputs": [],
   "source": [
    "def permutation_sample(data1, data2):\n",
    "    \"\"\"Generate a permutation sample from two data sets.\"\"\"\n",
    "\n",
    "    data = np.concatenate((data1, data2))\n",
    "\n",
    "    permuted_data = np.random.permutation(data)\n",
    "\n",
    "    return permuted_data[:len(data1)], permuted_data[len(data1):]"
   ]
  },
  {
   "cell_type": "code",
   "execution_count": 41,
   "metadata": {
    "Collapsed": "false"
   },
   "outputs": [
    {
     "data": {
      "text/plain": [
       "(array([5.374, 4.074, 2.46 , 3.383, 3.694, 1.169, 6.058, 0.814, 3.914,\n",
       "        1.021, 4.03 , 3.348, 5.698, 5.495, 3.54 , 3.872, 5.183, 1.534,\n",
       "        6.134, 4.651, 5.418, 6.91 , 4.633, 5.392, 5.933, 2.464, 3.832,\n",
       "        5.241, 4.346, 5.827, 6.274, 4.49 , 4.945, 2.393, 3.655, 1.351,\n",
       "        0.758, 6.11 , 6.596, 1.695]),\n",
       " array([ 4.824,  5.392,  3.383,  2.133,  1.823,  3.579,  3.204,  4.591,\n",
       "         5.015,  1.386,  5.689,  0.945,  1.611,  3.7  ,  1.537,  2.708,\n",
       "         4.431,  3.168,  2.744,  1.687,  6.744,  6.636,  6.193,  6.604,\n",
       "         2.411,  1.25 ,  3.688,  4.287,  5.216,  7.069,  2.659,  4.622,\n",
       "         4.963,  0.094,  3.778,  0.249,  2.906,  3.007, -1.219,  6.135,\n",
       "         2.734,  1.872,  2.124,  2.513,  4.895,  3.586,  1.895,  3.737,\n",
       "         5.336,  1.998]))"
      ]
     },
     "execution_count": 41,
     "metadata": {},
     "output_type": "execute_result"
    }
   ],
   "source": [
    "data1 = groups[groups['group_id']==0].value\n",
    "data2 = groups[groups['group_id']==1].value\n",
    "permutation_sample(data1, data2)"
   ]
  },
  {
   "cell_type": "code",
   "execution_count": 45,
   "metadata": {
    "Collapsed": "false"
   },
   "outputs": [
    {
     "name": "stdout",
     "output_type": "stream",
     "text": [
      "Real mean for data1: 2.03, for data2 : 5.08\n",
      "Means for permuted samples: [3.6365872850744934, 3.795433053766932]\n"
     ]
    }
   ],
   "source": [
    "print(f'Real mean for data1: {np.mean(data1):.2f}, for data2 : {np.mean(data2):.2f}')\n",
    "print(f'Means for permuted samples: {[np.mean(el) for el in permutation_sample(data1, data2)]}')"
   ]
  },
  {
   "cell_type": "code",
   "execution_count": 47,
   "metadata": {
    "Collapsed": "false"
   },
   "outputs": [
    {
     "data": {
      "text/plain": [
       "[3.9646352927086412, 3.532994647659613]"
      ]
     },
     "execution_count": 47,
     "metadata": {},
     "output_type": "execute_result"
    }
   ],
   "source": [
    "list(map(np.mean,permutation_sample(data1, data2)))"
   ]
  },
  {
   "cell_type": "code",
   "execution_count": 53,
   "metadata": {
    "Collapsed": "false"
   },
   "outputs": [
    {
     "data": {
      "text/plain": [
       "array([-0.027])"
      ]
     },
     "execution_count": 53,
     "metadata": {},
     "output_type": "execute_result"
    }
   ],
   "source": [
    "np.diff(list(map(np.mean,permutation_sample(data1, data2))))"
   ]
  },
  {
   "cell_type": "code",
   "execution_count": 48,
   "metadata": {
    "Collapsed": "false"
   },
   "outputs": [
    {
     "name": "stdout",
     "output_type": "stream",
     "text": [
      "Видно что средние значения переразбитых выборок сильно отличаются\n"
     ]
    },
    {
     "data": {
      "text/plain": [
       "[[4.109175510856114, 3.4173624731416345],\n",
       " [3.4203683449019096, 3.9684082059049985],\n",
       " [3.706748928190798, 3.739303739273888],\n",
       " [3.6489767944575804, 3.7855214462604625],\n",
       " [3.6829141344611216, 3.75837157425763]]"
      ]
     },
     "execution_count": 48,
     "metadata": {},
     "output_type": "execute_result"
    }
   ],
   "source": [
    "print('Видно что средние значения переразбитых выборок сильно отличаются')\n",
    "[list(map(np.mean,permutation_sample(data1, data2))) for i in range(5)]"
   ]
  },
  {
   "cell_type": "code",
   "execution_count": 51,
   "metadata": {
    "Collapsed": "false"
   },
   "outputs": [
    {
     "name": "stdout",
     "output_type": "stream",
     "text": [
      "Тестовая статистика 3.04 и мы проверяем гипотезу о равенстве ее нулю\n"
     ]
    }
   ],
   "source": [
    "t_diff = np.mean(data2) -np.mean(data1)\n",
    "print(f'Тестовая статистика {t_diff:.2f} и мы проверяем гипотезу о равенстве ее нулю')"
   ]
  },
  {
   "cell_type": "code",
   "execution_count": 52,
   "metadata": {
    "Collapsed": "false"
   },
   "outputs": [
    {
     "data": {
      "text/plain": [
       "-0.5571263343901327"
      ]
     },
     "execution_count": 52,
     "metadata": {},
     "output_type": "execute_result"
    }
   ],
   "source": [
    "p1, p2 = permutation_sample(data1, data2)\n",
    "np.mean(p2) - np.mean(p1)"
   ]
  },
  {
   "cell_type": "code",
   "execution_count": 73,
   "metadata": {
    "Collapsed": "false"
   },
   "outputs": [],
   "source": [
    "def diff_of_means(data1, data2, nsamples, plot = True):\n",
    "    \"\"\"Difference in means of two arrays.\"\"\"\n",
    "\n",
    "    t_diff = np.mean(data2) - np.mean(data1)\n",
    "    diffs = np.squeeze(np.diff([list(map(np.mean,permutation_sample(data1, data2))) for i in range(nsamples)]))\n",
    "    p_val = np.mean(diff>t_diff)  \n",
    "    alpha = np.percentile(diff, 95)\n",
    "    print(f'Real level {t_diff},p_val: {p_val}, level enough to reject at alpha 95% is {alpha :.2f}')\n",
    "    if plot:\n",
    "        val = plt.hist(diff, density = True)\n",
    "        plt.vlines(t_diff, 0, max(val[0]), 'red',  label = 'Observed stat');\n",
    "        plt.vlines(np.percentile(diff, 95), 0, max(val[0]), 'black',  label = 'alpha-level 0.95');\n",
    "        plt.legend()\n",
    "        \n",
    "    return diff"
   ]
  },
  {
   "cell_type": "code",
   "execution_count": 74,
   "metadata": {
    "Collapsed": "false"
   },
   "outputs": [
    {
     "name": "stdout",
     "output_type": "stream",
     "text": [
      "Real level 3.0418387636397983,p_val: 0.0, level enough to reject at alpha 95% is 0.65\n"
     ]
    },
    {
     "data": {
      "image/png": "[encoded data removed]",
      "text/plain": [
       "<Figure size 432x288 with 1 Axes>"
      ]
     },
     "metadata": {
      "needs_background": "light"
     },
     "output_type": "display_data"
    }
   ],
   "source": [
    "diff = diff_of_means(data1, data2, 1000)"
   ]
  },
  {
   "cell_type": "markdown",
   "metadata": {
    "Collapsed": "false"
   },
   "source": [
    "## Проверка равенства дисперсии\n",
    "точно так же можно проверить и равенство дисперсии и любой другой статистики\n",
    "Код написан не оптимально, тестируется только односторонняя гипотеза, все это вам нужно будет в скриптах поправить"
   ]
  },
  {
   "cell_type": "code",
   "execution_count": 75,
   "metadata": {
    "Collapsed": "false"
   },
   "outputs": [],
   "source": [
    "def diff_of_stds(data1, data2, nsamples, plot = True):\n",
    "    \"\"\"Difference in means of two arrays.\"\"\"\n",
    "\n",
    "    t_diff = np.std(data2) - np.std(data1)\n",
    "    diffs = np.squeeze(np.diff([list(map(np.std,permutation_sample(data1, data2))) for i in range(nsamples)]))\n",
    "    p_val = np.std(diff>t_diff)  \n",
    "    alpha = np.percentile(diff, 95)\n",
    "    print(f'Real level {t_diff},p_val: {p_val}, level enough to reject at alpha 95% is {alpha :.2f}')\n",
    "    if plot:\n",
    "        val = plt.hist(diff, density = True)\n",
    "        plt.vlines(t_diff, 0, max(val[0]), 'red',  label = 'Observed stat');\n",
    "        plt.vlines(np.percentile(diff, 95), 0, max(val[0]), 'black',  label = 'alpha-level 0.95');\n",
    "        plt.legend()\n",
    "        \n",
    "    return diff"
   ]
  },
  {
   "cell_type": "code",
   "execution_count": 76,
   "metadata": {
    "Collapsed": "false"
   },
   "outputs": [
    {
     "name": "stdout",
     "output_type": "stream",
     "text": [
      "Real level -0.05106192437459511,p_val: 0.496141108959941, level enough to reject at alpha 95% is 0.65\n"
     ]
    },
    {
     "data": {
      "image/png": "[encoded data removed]",
      "text/plain": [
       "<Figure size 432x288 with 1 Axes>"
      ]
     },
     "metadata": {
      "needs_background": "light"
     },
     "output_type": "display_data"
    }
   ],
   "source": [
    "diff_std = diff_of_stds(data1, data2, 1000)"
   ]
  },
  {
   "cell_type": "markdown",
   "metadata": {
    "Collapsed": "false"
   },
   "source": [
    "Точно так же можно с помощью перемешивания можно проверять гипотезы о равенстве долей.\n",
    "Например, посмотрим следующую задачу:\n",
    "По данным опроса, 75% работников ресторанов утверждают, что испытывают на работе существенный стресс, оказывающий негативное влияние на их личную жизнь. Крупная ресторанная сеть опрашивает 100 своих работников, чтобы выяснить, отличается ли уровень стресса работников в их ресторанах от среднего. 67 из 100 работников отметили высокий уровень стресса. Может ли компания похвастаться, что уровень стресса ее работников ниже среднего по рынку?"
   ]
  },
  {
   "cell_type": "code",
   "execution_count": 77,
   "metadata": {
    "Collapsed": "false"
   },
   "outputs": [],
   "source": [
    "overall = np.array(75*[1]+25*[0])\n",
    "restrt = np.array(50*[1]+50*[0])"
   ]
  },
  {
   "cell_type": "code",
   "execution_count": 52,
   "metadata": {
    "Collapsed": "false"
   },
   "outputs": [
    {
     "data": {
      "text/plain": [
       "0.75"
      ]
     },
     "execution_count": 52,
     "metadata": {},
     "output_type": "execute_result"
    }
   ],
   "source": [
    "np.mean(overall)"
   ]
  },
  {
   "cell_type": "code",
   "execution_count": 78,
   "metadata": {
    "Collapsed": "false"
   },
   "outputs": [
    {
     "name": "stdout",
     "output_type": "stream",
     "text": [
      "Real level -0.25,p_val: 0.738, level enough to reject at alpha 95% is 0.65\n"
     ]
    },
    {
     "data": {
      "image/png": "[encoded data removed]",
      "text/plain": [
       "<Figure size 432x288 with 1 Axes>"
      ]
     },
     "metadata": {
      "needs_background": "light"
     },
     "output_type": "display_data"
    }
   ],
   "source": [
    "diff = diff_of_means(overall, restrt, 1000)"
   ]
  },
  {
   "cell_type": "code",
   "execution_count": 67,
   "metadata": {
    "Collapsed": "false"
   },
   "outputs": [
    {
     "data": {
      "text/plain": [
       "0.0"
      ]
     },
     "execution_count": 67,
     "metadata": {},
     "output_type": "execute_result"
    }
   ],
   "source": [
    "np.mean(diff>t_diff)"
   ]
  },
  {
   "cell_type": "code",
   "execution_count": 62,
   "metadata": {
    "Collapsed": "false"
   },
   "outputs": [
    {
     "data": {
      "text/plain": [
       "0.0"
      ]
     },
     "execution_count": 62,
     "metadata": {},
     "output_type": "execute_result"
    }
   ],
   "source": [
    "t_diff = np.mean(overall) - np.mean(restrt)\n",
    "np.mean(diff>t_diff)"
   ]
  },
  {
   "cell_type": "markdown",
   "metadata": {
    "Collapsed": "false"
   },
   "source": [
    "## Bootstrap\n",
    "\n",
    "Давайте представим теперь, что у нас есть данные для одних и тех же объектов в разных условиях (повторные измерение). Мы изучаем например как качество сна влияет на скорость реакции. Тестируем группу студентов: даем решать какие-то простые задачки на скорость реакции, а потом отправляем их всей толпой танцевать на всю ночь и с утра снова тестируем. В рамках данного теста гипотеза или принимается на основе полученного доверительного интервала"
   ]
  },
  {
   "cell_type": "code",
   "execution_count": 97,
   "metadata": {
    "Collapsed": "false"
   },
   "outputs": [
    {
     "data": {
      "text/html": [
       "<div>\n",
       "<style scoped>\n",
       "    .dataframe tbody tr th:only-of-type {\n",
       "        vertical-align: middle;\n",
       "    }\n",
       "\n",
       "    .dataframe tbody tr th {\n",
       "        vertical-align: top;\n",
       "    }\n",
       "\n",
       "    .dataframe thead th {\n",
       "        text-align: right;\n",
       "    }\n",
       "</style>\n",
       "<table border=\"1\" class=\"dataframe\">\n",
       "  <thead>\n",
       "    <tr style=\"text-align: right;\">\n",
       "      <th></th>\n",
       "      <th>value</th>\n",
       "      <th>group</th>\n",
       "      <th>group_id</th>\n",
       "      <th>person_id</th>\n",
       "    </tr>\n",
       "  </thead>\n",
       "  <tbody>\n",
       "    <tr>\n",
       "      <th>0</th>\n",
       "      <td>21.056131</td>\n",
       "      <td>group0</td>\n",
       "      <td>0</td>\n",
       "      <td>0</td>\n",
       "    </tr>\n",
       "    <tr>\n",
       "      <th>1</th>\n",
       "      <td>20.426656</td>\n",
       "      <td>group0</td>\n",
       "      <td>0</td>\n",
       "      <td>1</td>\n",
       "    </tr>\n",
       "    <tr>\n",
       "      <th>2</th>\n",
       "      <td>19.364472</td>\n",
       "      <td>group0</td>\n",
       "      <td>0</td>\n",
       "      <td>2</td>\n",
       "    </tr>\n",
       "    <tr>\n",
       "      <th>3</th>\n",
       "      <td>19.208989</td>\n",
       "      <td>group0</td>\n",
       "      <td>0</td>\n",
       "      <td>3</td>\n",
       "    </tr>\n",
       "    <tr>\n",
       "      <th>4</th>\n",
       "      <td>20.433119</td>\n",
       "      <td>group0</td>\n",
       "      <td>0</td>\n",
       "      <td>4</td>\n",
       "    </tr>\n",
       "  </tbody>\n",
       "</table>\n",
       "</div>"
      ],
      "text/plain": [
       "       value   group  group_id  person_id\n",
       "0  21.056131  group0         0          0\n",
       "1  20.426656  group0         0          1\n",
       "2  19.364472  group0         0          2\n",
       "3  19.208989  group0         0          3\n",
       "4  20.433119  group0         0          4"
      ]
     },
     "execution_count": 97,
     "metadata": {},
     "output_type": "execute_result"
    }
   ],
   "source": [
    "size = 40\n",
    "groups = generate_norm_groups(means = [20,10], sizes = [40, 40])\n",
    "person_id = np.tile(np.arange(size),2)\n",
    "groups['person_id'] = person_id \n",
    "groups.head()"
   ]
  },
  {
   "cell_type": "code",
   "execution_count": 108,
   "metadata": {
    "Collapsed": "false"
   },
   "outputs": [
    {
     "data": {
      "text/html": [
       "<div>\n",
       "<style scoped>\n",
       "    .dataframe tbody tr th:only-of-type {\n",
       "        vertical-align: middle;\n",
       "    }\n",
       "\n",
       "    .dataframe tbody tr th {\n",
       "        vertical-align: top;\n",
       "    }\n",
       "\n",
       "    .dataframe thead th {\n",
       "        text-align: right;\n",
       "    }\n",
       "</style>\n",
       "<table border=\"1\" class=\"dataframe\">\n",
       "  <thead>\n",
       "    <tr style=\"text-align: right;\">\n",
       "      <th></th>\n",
       "      <th>before</th>\n",
       "      <th>after</th>\n",
       "    </tr>\n",
       "    <tr>\n",
       "      <th>person_id</th>\n",
       "      <th></th>\n",
       "      <th></th>\n",
       "    </tr>\n",
       "  </thead>\n",
       "  <tbody>\n",
       "    <tr>\n",
       "      <th>0</th>\n",
       "      <td>21.056131</td>\n",
       "      <td>9.676872</td>\n",
       "    </tr>\n",
       "    <tr>\n",
       "      <th>1</th>\n",
       "      <td>20.426656</td>\n",
       "      <td>11.277023</td>\n",
       "    </tr>\n",
       "    <tr>\n",
       "      <th>2</th>\n",
       "      <td>19.364472</td>\n",
       "      <td>10.898703</td>\n",
       "    </tr>\n",
       "    <tr>\n",
       "      <th>3</th>\n",
       "      <td>19.208989</td>\n",
       "      <td>9.168129</td>\n",
       "    </tr>\n",
       "    <tr>\n",
       "      <th>4</th>\n",
       "      <td>20.433119</td>\n",
       "      <td>10.980349</td>\n",
       "    </tr>\n",
       "  </tbody>\n",
       "</table>\n",
       "</div>"
      ],
      "text/plain": [
       "              before      after\n",
       "person_id                      \n",
       "0          21.056131   9.676872\n",
       "1          20.426656  11.277023\n",
       "2          19.364472  10.898703\n",
       "3          19.208989   9.168129\n",
       "4          20.433119  10.980349"
      ]
     },
     "execution_count": 108,
     "metadata": {},
     "output_type": "execute_result"
    }
   ],
   "source": [
    "rep_groups = pd.pivot_table(groups[['value','group','person_id']], columns = 'group', index='person_id')\n",
    "rep_groups.columns = ['before','after']\n",
    "rep_groups.head()"
   ]
  },
  {
   "cell_type": "code",
   "execution_count": 121,
   "metadata": {
    "Collapsed": "false"
   },
   "outputs": [
    {
     "data": {
      "text/html": [
       "<div>\n",
       "<style scoped>\n",
       "    .dataframe tbody tr th:only-of-type {\n",
       "        vertical-align: middle;\n",
       "    }\n",
       "\n",
       "    .dataframe tbody tr th {\n",
       "        vertical-align: top;\n",
       "    }\n",
       "\n",
       "    .dataframe thead th {\n",
       "        text-align: right;\n",
       "    }\n",
       "</style>\n",
       "<table border=\"1\" class=\"dataframe\">\n",
       "  <thead>\n",
       "    <tr style=\"text-align: right;\">\n",
       "      <th></th>\n",
       "      <th>T</th>\n",
       "      <th>dof</th>\n",
       "      <th>tail</th>\n",
       "      <th>p-val</th>\n",
       "      <th>CI95%</th>\n",
       "      <th>cohen-d</th>\n",
       "      <th>BF10</th>\n",
       "      <th>power</th>\n",
       "    </tr>\n",
       "  </thead>\n",
       "  <tbody>\n",
       "    <tr>\n",
       "      <th>T-test</th>\n",
       "      <td>44.48</td>\n",
       "      <td>39</td>\n",
       "      <td>greater</td>\n",
       "      <td>0.0</td>\n",
       "      <td>[9.87, inf]</td>\n",
       "      <td>10.23</td>\n",
       "      <td>6.882e+31</td>\n",
       "      <td>1.0</td>\n",
       "    </tr>\n",
       "  </tbody>\n",
       "</table>\n",
       "</div>"
      ],
      "text/plain": [
       "            T  dof     tail  p-val        CI95%  cohen-d       BF10  power\n",
       "T-test  44.48   39  greater    0.0  [9.87, inf]    10.23  6.882e+31    1.0"
      ]
     },
     "execution_count": 121,
     "metadata": {},
     "output_type": "execute_result"
    }
   ],
   "source": [
    "# можно сделать в рамках параметрической статистики\n",
    "pre = rep_groups['before']\n",
    "post = rep_groups['after']\n",
    "pg.ttest(pre, post, paired=True, tail='one-sided').round(2)"
   ]
  },
  {
   "cell_type": "code",
   "execution_count": 158,
   "metadata": {
    "Collapsed": "false"
   },
   "outputs": [
    {
     "data": {
      "text/plain": [
       "10.684558100826399"
      ]
     },
     "execution_count": 158,
     "metadata": {},
     "output_type": "execute_result"
    }
   ],
   "source": [
    "v_diff = pre-post\n",
    "np.mean(np.random.choice(v_diff, size=len(v_diff)))"
   ]
  },
  {
   "cell_type": "code",
   "execution_count": 154,
   "metadata": {
    "Collapsed": "false"
   },
   "outputs": [],
   "source": [
    "def bootstrap_comp_paired(pre,post, nsamples=1000, plot=True):\n",
    "    diffs = pre-post\n",
    "    real_diff = np.mean(diffs)\n",
    "    b_diffs = [np.mean(np.random.choice(diffs, size=len(pre))) for i in range(nsamples)]\n",
    "    if plot:\n",
    "        val = plt.hist(b_diffs)\n",
    "        plt.vlines(np.percentile(b_diffs, 2.5), 0, max(val[0]), 'red',  label = '2.5 alpha level');\n",
    "        plt.vlines(np.percentile(b_diffs, 97.5), 0, max(val[0]), 'red', label = '97.5 alpha level');\n",
    "        plt.vlines(np.percentile(b_diffs, 95), 0, max(val[0]), 'black', label = '95 alpha level');\n",
    "        plt.legend()"
   ]
  },
  {
   "cell_type": "code",
   "execution_count": 155,
   "metadata": {
    "Collapsed": "false"
   },
   "outputs": [
    {
     "data": {
      "image/png": "[encoded data removed]",
      "text/plain": [
       "<Figure size 432x288 with 1 Axes>"
      ]
     },
     "metadata": {
      "needs_background": "light"
     },
     "output_type": "display_data"
    }
   ],
   "source": [
    "bootstrap_comp_paired(pre,post)"
   ]
  },
  {
   "cell_type": "markdown",
   "metadata": {
    "Collapsed": "false"
   },
   "source": [
    "### Оценка коэффициентов линейной регрессии\n",
    "C помощью бутстрапа можно строить доверительные интервалы для любых наборов данных.\n",
    "Можно получить оценки коэффициентов линейной регрессии. Как это сделать?"
   ]
  },
  {
   "cell_type": "code",
   "execution_count": 159,
   "metadata": {
    "Collapsed": "false"
   },
   "outputs": [
    {
     "data": {
      "image/png": "[encoded data removed]",
      "text/plain": [
       "<Figure size 432x288 with 1 Axes>"
      ]
     },
     "metadata": {
      "needs_background": "light"
     },
     "output_type": "display_data"
    }
   ],
   "source": [
    "x = np.linspace(-5,5,50)\n",
    "a = 1\n",
    "b = 0.5\n",
    "eps = np.random.randn(50)\n",
    "y = a + b*x + 0.5*eps\n",
    "plt.scatter(x,y); plt.plot(x, a+b*x, color = 'red');\n",
    "plt.plot(x, np.ones(50)*np.mean(y),color = 'green')\n",
    "plt.title(f'And here our wonderfull regression to come y = {a}+{b}*x');\n",
    "plt.xlabel('x');\n",
    "plt.ylabel('y');"
   ]
  },
  {
   "cell_type": "code",
   "execution_count": 160,
   "metadata": {
    "Collapsed": "false"
   },
   "outputs": [
    {
     "name": "stdout",
     "output_type": "stream",
     "text": [
      "Linear model with pingouin\n",
      "Истинные параметры: intercept:1,coeff 0.5\n",
      "Видим, что здесь еще выводятся доверительные интервалы, ошибка,\n",
      " p-value (тестируется гипотеза о равенстве коэффициента нулю\n"
     ]
    },
    {
     "data": {
      "text/html": [
       "<div>\n",
       "<style scoped>\n",
       "    .dataframe tbody tr th:only-of-type {\n",
       "        vertical-align: middle;\n",
       "    }\n",
       "\n",
       "    .dataframe tbody tr th {\n",
       "        vertical-align: top;\n",
       "    }\n",
       "\n",
       "    .dataframe thead th {\n",
       "        text-align: right;\n",
       "    }\n",
       "</style>\n",
       "<table border=\"1\" class=\"dataframe\">\n",
       "  <thead>\n",
       "    <tr style=\"text-align: right;\">\n",
       "      <th></th>\n",
       "      <th>names</th>\n",
       "      <th>coef</th>\n",
       "      <th>se</th>\n",
       "      <th>T</th>\n",
       "      <th>pval</th>\n",
       "      <th>r2</th>\n",
       "      <th>adj_r2</th>\n",
       "      <th>CI[2.5%]</th>\n",
       "      <th>CI[97.5%]</th>\n",
       "    </tr>\n",
       "  </thead>\n",
       "  <tbody>\n",
       "    <tr>\n",
       "      <th>0</th>\n",
       "      <td>Intercept</td>\n",
       "      <td>1.097</td>\n",
       "      <td>0.070</td>\n",
       "      <td>15.715</td>\n",
       "      <td>0.0</td>\n",
       "      <td>0.91</td>\n",
       "      <td>0.908</td>\n",
       "      <td>0.957</td>\n",
       "      <td>1.237</td>\n",
       "    </tr>\n",
       "    <tr>\n",
       "      <th>1</th>\n",
       "      <td>x1</td>\n",
       "      <td>0.522</td>\n",
       "      <td>0.024</td>\n",
       "      <td>22.024</td>\n",
       "      <td>0.0</td>\n",
       "      <td>0.91</td>\n",
       "      <td>0.908</td>\n",
       "      <td>0.474</td>\n",
       "      <td>0.570</td>\n",
       "    </tr>\n",
       "  </tbody>\n",
       "</table>\n",
       "</div>"
      ],
      "text/plain": [
       "       names   coef     se       T  pval    r2  adj_r2  CI[2.5%]  CI[97.5%]\n",
       "0  Intercept  1.097  0.070  15.715   0.0  0.91   0.908     0.957      1.237\n",
       "1         x1  0.522  0.024  22.024   0.0  0.91   0.908     0.474      0.570"
      ]
     },
     "execution_count": 160,
     "metadata": {},
     "output_type": "execute_result"
    }
   ],
   "source": [
    "print('Linear model with pingouin')\n",
    "lm = pg.linear_regression(x, y)\n",
    "print(f'Истинные параметры: intercept:{a},coeff {b}')\n",
    "print('Видим, что здесь еще выводятся доверительные интервалы, ошибка,\\n p-value (тестируется гипотеза о равенстве коэффициента нулю')\n",
    "lm.round(3)"
   ]
  },
  {
   "cell_type": "markdown",
   "metadata": {
    "Collapsed": "false"
   },
   "source": [
    "### Задание\n",
    "получите доверительные интервалы для коэффициентов регрессии (hint - в бутстрапе надо что-то мешать, самое сложное здесь понять что надо мешать)"
   ]
  },
  {
   "cell_type": "code",
   "execution_count": 161,
   "metadata": {
    "Collapsed": "false"
   },
   "outputs": [
    {
     "data": {
      "text/plain": [
       "3.690743379859476"
      ]
     },
     "execution_count": 161,
     "metadata": {},
     "output_type": "execute_result"
    }
   ],
   "source": [
    "np.percentile(data1, 95)"
   ]
  },
  {
   "cell_type": "code",
   "execution_count": null,
   "metadata": {
    "Collapsed": "false"
   },
   "outputs": [],
   "source": [
    "lamb"
   ]
  }
 ],
 "metadata": {
  "kernelspec": {
   "display_name": "Python [conda env:py36]",
   "language": "python",
   "name": "conda-env-py36-py"
  },
  "language_info": {
   "codemirror_mode": {
    "name": "ipython",
    "version": 3
   },
   "file_extension": ".py",
   "mimetype": "text/x-python",
   "name": "python",
   "nbconvert_exporter": "python",
   "pygments_lexer": "ipython3",
   "version": "3.6.10"
  }
 },
 "nbformat": 4,
 "nbformat_minor": 4
}
